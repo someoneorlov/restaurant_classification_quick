{
 "cells": [
  {
   "cell_type": "markdown",
   "metadata": {},
   "source": [
    "There is a file with orders in different restaurants. \n",
    "\n",
    "Fields:\n",
    "* OId - restaurant id,\n",
    "* OrderId - order id,\n",
    "* ActivationType - type of user authorization in the order (for example, by table number or phone number), \n",
    "* LoginEntryId - user id,\n",
    "* RegistrationTime - order time\n",
    "\n",
    "Percentage of cheque penetration by table number - percentage of orders with ActivationType = 14 in a particular organization in relation to all orders in this organization.\n",
    "\n",
    "What you need to do:"
   ]
  },
  {
   "cell_type": "markdown",
   "metadata": {},
   "source": [
    "**1. Segment restaurants by percentage of cheque penetration into the table.**"
   ]
  },
  {
   "cell_type": "code",
   "execution_count": 1,
   "metadata": {},
   "outputs": [],
   "source": [
    "import numpy as np\n",
    "import pandas as pd\n",
    "import warnings\n",
    "import matplotlib.pyplot as plt\n",
    "\n",
    "from datetime import datetime\n",
    "from sklearn.cluster import KMeans\n",
    "\n",
    "%matplotlib inline\n",
    "warnings.filterwarnings('ignore')"
   ]
  },
  {
   "cell_type": "code",
   "execution_count": 2,
   "metadata": {},
   "outputs": [],
   "source": [
    "def cum_result(data: 'DataFrame') -> 'DataFrame':\n",
    "    '''Return cummulative penetration and difference in days per organization'''\n",
    "\n",
    "    data['Penetration'] = 0\n",
    "    data['DaysDiff'] = 0\n",
    "    start_date = data['RegistrationTime'].iloc[0]\n",
    "    aT = 0\n",
    "    for i in range(len(data)):\n",
    "        if data['ActivationType'].iloc[i] == 14:\n",
    "            aT += 1\n",
    "            data['Penetration'].iloc[i] = aT / (i + 1)\n",
    "            data['DaysDiff'].iloc[i] = (data['RegistrationTime'].iloc[i] -\n",
    "                                        start_date\n",
    "                                        ).days\n",
    "        else:\n",
    "            data['Penetration'].iloc[i] = aT / (i + 1)\n",
    "            data['DaysDiff'].iloc[i] = (data['RegistrationTime'].iloc[i] -\n",
    "                                        start_date\n",
    "                                        ).days\n",
    "\n",
    "    return data\n",
    "\n",
    "\n",
    "def min_days(data: 'DataFrame') -> 'DataFrame':\n",
    "    '''Return number of days required by the restaurant \n",
    "        to reach the required penetration'''\n",
    "\n",
    "    return data[['OId',\n",
    "                 'RegistrationTime',\n",
    "                 'Penetration',\n",
    "                 'DaysDiff']][(data['Penetration'] >= 0.2)].iloc[0]"
   ]
  },
  {
   "cell_type": "code",
   "execution_count": 3,
   "metadata": {},
   "outputs": [],
   "source": [
    "train = pd.read_csv('data/orders.csv')"
   ]
  },
  {
   "cell_type": "code",
   "execution_count": 4,
   "metadata": {},
   "outputs": [
    {
     "data": {
      "text/html": [
       "<div>\n",
       "<style scoped>\n",
       "    .dataframe tbody tr th:only-of-type {\n",
       "        vertical-align: middle;\n",
       "    }\n",
       "\n",
       "    .dataframe tbody tr th {\n",
       "        vertical-align: top;\n",
       "    }\n",
       "\n",
       "    .dataframe thead th {\n",
       "        text-align: right;\n",
       "    }\n",
       "</style>\n",
       "<table border=\"1\" class=\"dataframe\">\n",
       "  <thead>\n",
       "    <tr style=\"text-align: right;\">\n",
       "      <th></th>\n",
       "      <th>OId</th>\n",
       "      <th>OrderId</th>\n",
       "      <th>ActivationType</th>\n",
       "      <th>LoginEntryId</th>\n",
       "      <th>RegistrationTime</th>\n",
       "    </tr>\n",
       "  </thead>\n",
       "  <tbody>\n",
       "    <tr>\n",
       "      <th>0</th>\n",
       "      <td>f1965959-0dc2-4fcd-7e59-08d70f880a25</td>\n",
       "      <td>00006919-4979-4960-bc49-08d71c13cd44</td>\n",
       "      <td>-1</td>\n",
       "      <td>NaN</td>\n",
       "      <td>2019-08-12 12:21:43</td>\n",
       "    </tr>\n",
       "    <tr>\n",
       "      <th>1</th>\n",
       "      <td>83a1326c-6279-462e-afe0-08d7143c5247</td>\n",
       "      <td>0000ee0d-fe91-4346-a5dc-494cc97fb24f</td>\n",
       "      <td>-1</td>\n",
       "      <td>NaN</td>\n",
       "      <td>2019-08-11 17:46:37</td>\n",
       "    </tr>\n",
       "    <tr>\n",
       "      <th>2</th>\n",
       "      <td>3f553a92-116f-11e4-8bac-50465d4d1d14</td>\n",
       "      <td>0000f4ab-777c-4d2f-81fb-e46b2376b23b</td>\n",
       "      <td>-1</td>\n",
       "      <td>NaN</td>\n",
       "      <td>2019-08-11 17:36:52</td>\n",
       "    </tr>\n",
       "    <tr>\n",
       "      <th>3</th>\n",
       "      <td>2fbe9269-6093-4a35-16ba-08d6f0cec8aa</td>\n",
       "      <td>0001c73a-99d4-40c5-84f7-cf1562ac7fea</td>\n",
       "      <td>-1</td>\n",
       "      <td>NaN</td>\n",
       "      <td>2019-08-12 07:51:11</td>\n",
       "    </tr>\n",
       "    <tr>\n",
       "      <th>4</th>\n",
       "      <td>cd15b0dd-f05e-e611-80ea-0050560102b9</td>\n",
       "      <td>00034022-282c-4b1d-a5d6-4d34c36ce577</td>\n",
       "      <td>-1</td>\n",
       "      <td>NaN</td>\n",
       "      <td>2019-08-12 11:31:47</td>\n",
       "    </tr>\n",
       "    <tr>\n",
       "      <th>5</th>\n",
       "      <td>71909a72-7f73-47c8-8583-08d701318257</td>\n",
       "      <td>0004e804-baea-4c89-bfcd-a0ef62510fb0</td>\n",
       "      <td>-1</td>\n",
       "      <td>NaN</td>\n",
       "      <td>2019-08-11 19:47:56</td>\n",
       "    </tr>\n",
       "    <tr>\n",
       "      <th>6</th>\n",
       "      <td>3c41a49c-c1ef-4bd7-54b9-08d6f0d11f0c</td>\n",
       "      <td>00054521-e1b8-4d12-9bf2-27e2b238280a</td>\n",
       "      <td>-1</td>\n",
       "      <td>NaN</td>\n",
       "      <td>2019-08-12 17:42:30</td>\n",
       "    </tr>\n",
       "    <tr>\n",
       "      <th>7</th>\n",
       "      <td>3d93924f-8915-e911-9667-005056110fc8</td>\n",
       "      <td>000558d6-387f-499f-3ca3-08d71c164c6b</td>\n",
       "      <td>10</td>\n",
       "      <td>9e464ffa-bd39-e911-a2c3-005056111137</td>\n",
       "      <td>2019-08-12 09:54:07</td>\n",
       "    </tr>\n",
       "    <tr>\n",
       "      <th>8</th>\n",
       "      <td>0bea41e4-0e47-4b47-8df9-08d710320b23</td>\n",
       "      <td>0005bf1e-8ac3-4db4-9af6-226dfdff47fb</td>\n",
       "      <td>-1</td>\n",
       "      <td>NaN</td>\n",
       "      <td>2019-08-11 20:25:54</td>\n",
       "    </tr>\n",
       "    <tr>\n",
       "      <th>9</th>\n",
       "      <td>b56919d9-252f-4dc7-1273-08d6fa3e5beb</td>\n",
       "      <td>0005d181-5be2-40b3-b24b-5268a6142622</td>\n",
       "      <td>-1</td>\n",
       "      <td>NaN</td>\n",
       "      <td>2019-08-12 07:41:07</td>\n",
       "    </tr>\n",
       "  </tbody>\n",
       "</table>\n",
       "</div>"
      ],
      "text/plain": [
       "                                    OId                               OrderId  \\\n",
       "0  f1965959-0dc2-4fcd-7e59-08d70f880a25  00006919-4979-4960-bc49-08d71c13cd44   \n",
       "1  83a1326c-6279-462e-afe0-08d7143c5247  0000ee0d-fe91-4346-a5dc-494cc97fb24f   \n",
       "2  3f553a92-116f-11e4-8bac-50465d4d1d14  0000f4ab-777c-4d2f-81fb-e46b2376b23b   \n",
       "3  2fbe9269-6093-4a35-16ba-08d6f0cec8aa  0001c73a-99d4-40c5-84f7-cf1562ac7fea   \n",
       "4  cd15b0dd-f05e-e611-80ea-0050560102b9  00034022-282c-4b1d-a5d6-4d34c36ce577   \n",
       "5  71909a72-7f73-47c8-8583-08d701318257  0004e804-baea-4c89-bfcd-a0ef62510fb0   \n",
       "6  3c41a49c-c1ef-4bd7-54b9-08d6f0d11f0c  00054521-e1b8-4d12-9bf2-27e2b238280a   \n",
       "7  3d93924f-8915-e911-9667-005056110fc8  000558d6-387f-499f-3ca3-08d71c164c6b   \n",
       "8  0bea41e4-0e47-4b47-8df9-08d710320b23  0005bf1e-8ac3-4db4-9af6-226dfdff47fb   \n",
       "9  b56919d9-252f-4dc7-1273-08d6fa3e5beb  0005d181-5be2-40b3-b24b-5268a6142622   \n",
       "\n",
       "   ActivationType                          LoginEntryId     RegistrationTime  \n",
       "0              -1                                   NaN  2019-08-12 12:21:43  \n",
       "1              -1                                   NaN  2019-08-11 17:46:37  \n",
       "2              -1                                   NaN  2019-08-11 17:36:52  \n",
       "3              -1                                   NaN  2019-08-12 07:51:11  \n",
       "4              -1                                   NaN  2019-08-12 11:31:47  \n",
       "5              -1                                   NaN  2019-08-11 19:47:56  \n",
       "6              -1                                   NaN  2019-08-12 17:42:30  \n",
       "7              10  9e464ffa-bd39-e911-a2c3-005056111137  2019-08-12 09:54:07  \n",
       "8              -1                                   NaN  2019-08-11 20:25:54  \n",
       "9              -1                                   NaN  2019-08-12 07:41:07  "
      ]
     },
     "execution_count": 4,
     "metadata": {},
     "output_type": "execute_result"
    }
   ],
   "source": [
    "train.head(10)"
   ]
  },
  {
   "cell_type": "markdown",
   "metadata": {},
   "source": [
    "Let's make a data frame, where each organization will have a sign of \"Penitration\" - the percentage of penetration of the cheque by table number.  "
   ]
  },
  {
   "cell_type": "code",
   "execution_count": 5,
   "metadata": {},
   "outputs": [],
   "source": [
    "df = pd.DataFrame(\n",
    "    pd.merge(\n",
    "        pd.DataFrame(\n",
    "            train.\n",
    "            groupby(['OId'])['OId'].\n",
    "            count()).\n",
    "        rename(columns={'OId': 'count'}).\n",
    "        reset_index(),\n",
    "        pd.DataFrame(\n",
    "            train[train['ActivationType'] == 14].\n",
    "            groupby(['OId'])['OId'].\n",
    "            count()).\n",
    "        rename(columns={'OId': 'count'}).\n",
    "        reset_index(),\n",
    "        how='left',\n",
    "        on='OId')\n",
    "    .fillna(0))\n",
    "\n",
    "df['penitration'] = df['count_y'] / df['count_x']\n",
    "df.drop(columns=['count_x', 'count_y'], inplace=True)"
   ]
  },
  {
   "cell_type": "code",
   "execution_count": 6,
   "metadata": {},
   "outputs": [
    {
     "data": {
      "text/html": [
       "<div>\n",
       "<style scoped>\n",
       "    .dataframe tbody tr th:only-of-type {\n",
       "        vertical-align: middle;\n",
       "    }\n",
       "\n",
       "    .dataframe tbody tr th {\n",
       "        vertical-align: top;\n",
       "    }\n",
       "\n",
       "    .dataframe thead th {\n",
       "        text-align: right;\n",
       "    }\n",
       "</style>\n",
       "<table border=\"1\" class=\"dataframe\">\n",
       "  <thead>\n",
       "    <tr style=\"text-align: right;\">\n",
       "      <th></th>\n",
       "      <th>OId</th>\n",
       "      <th>penitration</th>\n",
       "    </tr>\n",
       "  </thead>\n",
       "  <tbody>\n",
       "    <tr>\n",
       "      <th>0</th>\n",
       "      <td>004b67c3-61ba-498c-c711-08d6df94ce0d</td>\n",
       "      <td>0.00000</td>\n",
       "    </tr>\n",
       "    <tr>\n",
       "      <th>1</th>\n",
       "      <td>00ebc9c4-d3ca-e811-a2bb-00505611096a</td>\n",
       "      <td>0.00000</td>\n",
       "    </tr>\n",
       "    <tr>\n",
       "      <th>2</th>\n",
       "      <td>01dc42db-102d-4589-54c2-08d6f9ae6921</td>\n",
       "      <td>0.00000</td>\n",
       "    </tr>\n",
       "    <tr>\n",
       "      <th>3</th>\n",
       "      <td>02857a80-20c2-e811-a2ba-005056110660</td>\n",
       "      <td>0.00000</td>\n",
       "    </tr>\n",
       "    <tr>\n",
       "      <th>4</th>\n",
       "      <td>041e13eb-bb7d-4b2b-75b9-08d70131826f</td>\n",
       "      <td>0.00000</td>\n",
       "    </tr>\n",
       "    <tr>\n",
       "      <th>5</th>\n",
       "      <td>050c3bf1-afe7-e611-80f3-0050560102b9</td>\n",
       "      <td>0.06192</td>\n",
       "    </tr>\n",
       "    <tr>\n",
       "      <th>6</th>\n",
       "      <td>0528c67e-74d0-e811-a2bc-00505611096a</td>\n",
       "      <td>0.00000</td>\n",
       "    </tr>\n",
       "    <tr>\n",
       "      <th>7</th>\n",
       "      <td>08265756-8c5e-e811-a2b8-00505611096a</td>\n",
       "      <td>0.00000</td>\n",
       "    </tr>\n",
       "    <tr>\n",
       "      <th>8</th>\n",
       "      <td>0848d65b-840f-11e3-8bac-50465d4d1d14</td>\n",
       "      <td>0.00000</td>\n",
       "    </tr>\n",
       "    <tr>\n",
       "      <th>9</th>\n",
       "      <td>094a2346-f5a8-4e5e-80e2-08d6da403bdc</td>\n",
       "      <td>0.00000</td>\n",
       "    </tr>\n",
       "  </tbody>\n",
       "</table>\n",
       "</div>"
      ],
      "text/plain": [
       "                                    OId  penitration\n",
       "0  004b67c3-61ba-498c-c711-08d6df94ce0d      0.00000\n",
       "1  00ebc9c4-d3ca-e811-a2bb-00505611096a      0.00000\n",
       "2  01dc42db-102d-4589-54c2-08d6f9ae6921      0.00000\n",
       "3  02857a80-20c2-e811-a2ba-005056110660      0.00000\n",
       "4  041e13eb-bb7d-4b2b-75b9-08d70131826f      0.00000\n",
       "5  050c3bf1-afe7-e611-80f3-0050560102b9      0.06192\n",
       "6  0528c67e-74d0-e811-a2bc-00505611096a      0.00000\n",
       "7  08265756-8c5e-e811-a2b8-00505611096a      0.00000\n",
       "8  0848d65b-840f-11e3-8bac-50465d4d1d14      0.00000\n",
       "9  094a2346-f5a8-4e5e-80e2-08d6da403bdc      0.00000"
      ]
     },
     "execution_count": 6,
     "metadata": {},
     "output_type": "execute_result"
    }
   ],
   "source": [
    "df.head(10)"
   ]
  },
  {
   "cell_type": "markdown",
   "metadata": {},
   "source": [
    "Let's segmentation restaurants by percentage of checks penetration into the table using K-Means clustering algorithm. \n",
    "\n",
    "We do not know the number of clusters required in advance, so we will use the following criterion - the sum of squares of distances from the points to the centroids of the clusters to which they belong."
   ]
  },
  {
   "cell_type": "code",
   "execution_count": 7,
   "metadata": {},
   "outputs": [],
   "source": [
    "inertia = []\n",
    "for k in range(1, 10):\n",
    "    kmeans = KMeans(n_clusters=k, random_state=1)\n",
    "    kmeans.fit(df[['penitration']])\n",
    "    inertia.append(np.sqrt(kmeans.inertia_))"
   ]
  },
  {
   "cell_type": "code",
   "execution_count": 8,
   "metadata": {},
   "outputs": [
    {
     "data": {
      "image/png": "[encoded data removed]",
      "text/plain": [
       "<Figure size 576x432 with 1 Axes>"
      ]
     },
     "metadata": {},
     "output_type": "display_data"
    }
   ],
   "source": [
    "plt.figure(figsize=(8,6))\n",
    "plt.plot(range(1, 10), inertia, marker='s');\n",
    "plt.xlabel('$k$')\n",
    "plt.ylabel('$J(C_k)$')\n",
    "plt.title('Error');"
   ]
  },
  {
   "cell_type": "markdown",
   "metadata": {},
   "source": [
    "We can see that the criterion drops strongly when the number of clusters increases from 1 to 2 and from 2 to 3, and not so much when k changes from 3 to 4. It means that in this task it is optimal to specify 3 clusters. \n",
    "\n",
    "We could try another number of clusters, because we do not have an obvious \"elbow\" - the point where the curve becomes steeper. But with more clusters, our first cluster, which stands out in the figure below, will be split into smaller clusters. "
   ]
  },
  {
   "cell_type": "code",
   "execution_count": 9,
   "metadata": {},
   "outputs": [],
   "source": [
    "kmeans = KMeans(n_clusters=3, random_state=1)\n",
    "kmeans.fit(df[['penitration']]);"
   ]
  },
  {
   "cell_type": "code",
   "execution_count": 10,
   "metadata": {},
   "outputs": [
    {
     "data": {
      "image/png": "[encoded data removed]",
      "text/plain": [
       "<Figure size 864x288 with 1 Axes>"
      ]
     },
     "metadata": {},
     "output_type": "display_data"
    }
   ],
   "source": [
    "plt.figure(figsize=(12, 4))\n",
    "plt.scatter(df['penitration'],\n",
    "            np.zeros(len(df['penitration'])),\n",
    "            c=kmeans.labels_, s=50, cmap='gist_rainbow')\n",
    "plt.scatter(kmeans.cluster_centers_,\n",
    "            np.zeros(len(kmeans.cluster_centers_)),\n",
    "            marker='d', c='k', s=150, label='Centroids')\n",
    "plt.xlabel('Penitration')\n",
    "plt.legend()"
   ]
  },
  {
   "cell_type": "markdown",
   "metadata": {},
   "source": [
    "And let's add to our data frame a feature that will indicate the number of the cluster to which the restaurant belongs. "
   ]
  },
  {
   "cell_type": "code",
   "execution_count": 11,
   "metadata": {},
   "outputs": [],
   "source": [
    "df['Cluster'] = kmeans.labels_"
   ]
  },
  {
   "cell_type": "code",
   "execution_count": 12,
   "metadata": {},
   "outputs": [
    {
     "data": {
      "text/html": [
       "<div>\n",
       "<style scoped>\n",
       "    .dataframe tbody tr th:only-of-type {\n",
       "        vertical-align: middle;\n",
       "    }\n",
       "\n",
       "    .dataframe tbody tr th {\n",
       "        vertical-align: top;\n",
       "    }\n",
       "\n",
       "    .dataframe thead th {\n",
       "        text-align: right;\n",
       "    }\n",
       "</style>\n",
       "<table border=\"1\" class=\"dataframe\">\n",
       "  <thead>\n",
       "    <tr style=\"text-align: right;\">\n",
       "      <th></th>\n",
       "      <th>OId</th>\n",
       "      <th>penitration</th>\n",
       "      <th>Cluster</th>\n",
       "    </tr>\n",
       "  </thead>\n",
       "  <tbody>\n",
       "    <tr>\n",
       "      <th>194</th>\n",
       "      <td>7cbeb0f6-8c81-e611-80ea-0050560102b9</td>\n",
       "      <td>0.053360</td>\n",
       "      <td>0</td>\n",
       "    </tr>\n",
       "    <tr>\n",
       "      <th>75</th>\n",
       "      <td>36bfc569-3291-e611-80fa-005056010fa5</td>\n",
       "      <td>0.000000</td>\n",
       "      <td>0</td>\n",
       "    </tr>\n",
       "    <tr>\n",
       "      <th>256</th>\n",
       "      <td>a10abc2a-a373-e711-8112-005056010fa5</td>\n",
       "      <td>0.067873</td>\n",
       "      <td>0</td>\n",
       "    </tr>\n",
       "    <tr>\n",
       "      <th>345</th>\n",
       "      <td>d8796384-33ff-40b9-2816-08d6df94c6ec</td>\n",
       "      <td>0.000000</td>\n",
       "      <td>0</td>\n",
       "    </tr>\n",
       "    <tr>\n",
       "      <th>258</th>\n",
       "      <td>a374aeae-a64b-4827-c90b-08d6bad3792c</td>\n",
       "      <td>0.000000</td>\n",
       "      <td>0</td>\n",
       "    </tr>\n",
       "    <tr>\n",
       "      <th>103</th>\n",
       "      <td>48fb0597-9ae0-453f-606e-08d70f880a2f</td>\n",
       "      <td>0.000000</td>\n",
       "      <td>0</td>\n",
       "    </tr>\n",
       "    <tr>\n",
       "      <th>13</th>\n",
       "      <td>0c5e8bec-7136-e911-a2c5-00505611114a</td>\n",
       "      <td>0.000000</td>\n",
       "      <td>0</td>\n",
       "    </tr>\n",
       "    <tr>\n",
       "      <th>21</th>\n",
       "      <td>1114ec19-ac5d-4092-c496-08d7013182ad</td>\n",
       "      <td>0.000000</td>\n",
       "      <td>0</td>\n",
       "    </tr>\n",
       "    <tr>\n",
       "      <th>110</th>\n",
       "      <td>4b67c79f-ec4b-4f35-3f2a-08d6ca0fa815</td>\n",
       "      <td>0.000000</td>\n",
       "      <td>0</td>\n",
       "    </tr>\n",
       "    <tr>\n",
       "      <th>331</th>\n",
       "      <td>d0e1d1d5-53ea-4956-9b4e-08d6e43e3f83</td>\n",
       "      <td>0.000000</td>\n",
       "      <td>0</td>\n",
       "    </tr>\n",
       "  </tbody>\n",
       "</table>\n",
       "</div>"
      ],
      "text/plain": [
       "                                      OId  penitration  Cluster\n",
       "194  7cbeb0f6-8c81-e611-80ea-0050560102b9     0.053360        0\n",
       "75   36bfc569-3291-e611-80fa-005056010fa5     0.000000        0\n",
       "256  a10abc2a-a373-e711-8112-005056010fa5     0.067873        0\n",
       "345  d8796384-33ff-40b9-2816-08d6df94c6ec     0.000000        0\n",
       "258  a374aeae-a64b-4827-c90b-08d6bad3792c     0.000000        0\n",
       "103  48fb0597-9ae0-453f-606e-08d70f880a2f     0.000000        0\n",
       "13   0c5e8bec-7136-e911-a2c5-00505611114a     0.000000        0\n",
       "21   1114ec19-ac5d-4092-c496-08d7013182ad     0.000000        0\n",
       "110  4b67c79f-ec4b-4f35-3f2a-08d6ca0fa815     0.000000        0\n",
       "331  d0e1d1d5-53ea-4956-9b4e-08d6e43e3f83     0.000000        0"
      ]
     },
     "execution_count": 12,
     "metadata": {},
     "output_type": "execute_result"
    }
   ],
   "source": [
    "df.sample(n=10)"
   ]
  },
  {
   "cell_type": "markdown",
   "metadata": {},
   "source": [
    "**2. Calculate the number of days a restaurant can reach the percentage of cheque penetration into the table at 20% (i.e. at first it was less, then it became more or equal to 20%)**"
   ]
  },
  {
   "cell_type": "markdown",
   "metadata": {},
   "source": [
    "Let's choose a restaurant with a cheque penetration rate >= 20%"
   ]
  },
  {
   "cell_type": "code",
   "execution_count": 13,
   "metadata": {},
   "outputs": [],
   "source": [
    "penetration_list = list(df[df['penitration'] >= 0.2]['OId'])"
   ]
  },
  {
   "cell_type": "markdown",
   "metadata": {},
   "source": [
    "Let's leave only those entries in the data frame, where the restaurant ID is in our list of penetration_list"
   ]
  },
  {
   "cell_type": "code",
   "execution_count": 14,
   "metadata": {},
   "outputs": [],
   "source": [
    "df2 = train[train['OId'].apply(lambda OId: OId in penetration_list)][[\n",
    "    'OId', 'ActivationType', 'RegistrationTime']]\n",
    "\n",
    "df2.sort_values(['OId', 'RegistrationTime'], inplace=True)\n",
    "df2.reset_index(drop='index', inplace=True)\n",
    "\n",
    "df2['RegistrationTime'] = df2['RegistrationTime'].apply(lambda x:\n",
    "                                                        datetime.strptime(x, \"%Y-%m-%d %H:%M:%S\"))"
   ]
  },
  {
   "cell_type": "markdown",
   "metadata": {},
   "source": [
    "Let's apply the cum_result function, which will add some features to the data interface:\n",
    "1. Penetration - percentage of cheque penetration into the table at the moment\n",
    "2. Number of days from the first event at the restaurant to the current moment"
   ]
  },
  {
   "cell_type": "code",
   "execution_count": 15,
   "metadata": {},
   "outputs": [],
   "source": [
    "df2 = df2.groupby(['OId']).apply(cum_result)"
   ]
  },
  {
   "cell_type": "code",
   "execution_count": 16,
   "metadata": {},
   "outputs": [
    {
     "data": {
      "text/html": [
       "<div>\n",
       "<style scoped>\n",
       "    .dataframe tbody tr th:only-of-type {\n",
       "        vertical-align: middle;\n",
       "    }\n",
       "\n",
       "    .dataframe tbody tr th {\n",
       "        vertical-align: top;\n",
       "    }\n",
       "\n",
       "    .dataframe thead th {\n",
       "        text-align: right;\n",
       "    }\n",
       "</style>\n",
       "<table border=\"1\" class=\"dataframe\">\n",
       "  <thead>\n",
       "    <tr style=\"text-align: right;\">\n",
       "      <th></th>\n",
       "      <th>OId</th>\n",
       "      <th>ActivationType</th>\n",
       "      <th>RegistrationTime</th>\n",
       "      <th>Penetration</th>\n",
       "      <th>DaysDiff</th>\n",
       "    </tr>\n",
       "  </thead>\n",
       "  <tbody>\n",
       "    <tr>\n",
       "      <th>0</th>\n",
       "      <td>26bd3a99-7f33-e911-a2c4-00505611114a</td>\n",
       "      <td>-1</td>\n",
       "      <td>2019-08-11 23:32:30</td>\n",
       "      <td>0.000000</td>\n",
       "      <td>0</td>\n",
       "    </tr>\n",
       "    <tr>\n",
       "      <th>1</th>\n",
       "      <td>26bd3a99-7f33-e911-a2c4-00505611114a</td>\n",
       "      <td>-1</td>\n",
       "      <td>2019-08-11 23:34:11</td>\n",
       "      <td>0.000000</td>\n",
       "      <td>0</td>\n",
       "    </tr>\n",
       "    <tr>\n",
       "      <th>2</th>\n",
       "      <td>26bd3a99-7f33-e911-a2c4-00505611114a</td>\n",
       "      <td>-1</td>\n",
       "      <td>2019-08-12 11:49:25</td>\n",
       "      <td>0.000000</td>\n",
       "      <td>0</td>\n",
       "    </tr>\n",
       "    <tr>\n",
       "      <th>3</th>\n",
       "      <td>26bd3a99-7f33-e911-a2c4-00505611114a</td>\n",
       "      <td>-1</td>\n",
       "      <td>2019-08-12 11:51:07</td>\n",
       "      <td>0.000000</td>\n",
       "      <td>0</td>\n",
       "    </tr>\n",
       "    <tr>\n",
       "      <th>4</th>\n",
       "      <td>26bd3a99-7f33-e911-a2c4-00505611114a</td>\n",
       "      <td>14</td>\n",
       "      <td>2019-08-12 11:58:52</td>\n",
       "      <td>0.200000</td>\n",
       "      <td>0</td>\n",
       "    </tr>\n",
       "    <tr>\n",
       "      <th>5</th>\n",
       "      <td>26bd3a99-7f33-e911-a2c4-00505611114a</td>\n",
       "      <td>14</td>\n",
       "      <td>2019-08-12 12:28:23</td>\n",
       "      <td>0.333333</td>\n",
       "      <td>0</td>\n",
       "    </tr>\n",
       "    <tr>\n",
       "      <th>6</th>\n",
       "      <td>26bd3a99-7f33-e911-a2c4-00505611114a</td>\n",
       "      <td>14</td>\n",
       "      <td>2019-08-12 12:32:22</td>\n",
       "      <td>0.428571</td>\n",
       "      <td>0</td>\n",
       "    </tr>\n",
       "    <tr>\n",
       "      <th>7</th>\n",
       "      <td>26bd3a99-7f33-e911-a2c4-00505611114a</td>\n",
       "      <td>14</td>\n",
       "      <td>2019-08-12 12:34:42</td>\n",
       "      <td>0.500000</td>\n",
       "      <td>0</td>\n",
       "    </tr>\n",
       "    <tr>\n",
       "      <th>8</th>\n",
       "      <td>26bd3a99-7f33-e911-a2c4-00505611114a</td>\n",
       "      <td>-1</td>\n",
       "      <td>2019-08-12 12:35:47</td>\n",
       "      <td>0.444444</td>\n",
       "      <td>0</td>\n",
       "    </tr>\n",
       "    <tr>\n",
       "      <th>9</th>\n",
       "      <td>26bd3a99-7f33-e911-a2c4-00505611114a</td>\n",
       "      <td>14</td>\n",
       "      <td>2019-08-12 12:39:29</td>\n",
       "      <td>0.500000</td>\n",
       "      <td>0</td>\n",
       "    </tr>\n",
       "  </tbody>\n",
       "</table>\n",
       "</div>"
      ],
      "text/plain": [
       "                                    OId  ActivationType    RegistrationTime  \\\n",
       "0  26bd3a99-7f33-e911-a2c4-00505611114a              -1 2019-08-11 23:32:30   \n",
       "1  26bd3a99-7f33-e911-a2c4-00505611114a              -1 2019-08-11 23:34:11   \n",
       "2  26bd3a99-7f33-e911-a2c4-00505611114a              -1 2019-08-12 11:49:25   \n",
       "3  26bd3a99-7f33-e911-a2c4-00505611114a              -1 2019-08-12 11:51:07   \n",
       "4  26bd3a99-7f33-e911-a2c4-00505611114a              14 2019-08-12 11:58:52   \n",
       "5  26bd3a99-7f33-e911-a2c4-00505611114a              14 2019-08-12 12:28:23   \n",
       "6  26bd3a99-7f33-e911-a2c4-00505611114a              14 2019-08-12 12:32:22   \n",
       "7  26bd3a99-7f33-e911-a2c4-00505611114a              14 2019-08-12 12:34:42   \n",
       "8  26bd3a99-7f33-e911-a2c4-00505611114a              -1 2019-08-12 12:35:47   \n",
       "9  26bd3a99-7f33-e911-a2c4-00505611114a              14 2019-08-12 12:39:29   \n",
       "\n",
       "   Penetration  DaysDiff  \n",
       "0     0.000000         0  \n",
       "1     0.000000         0  \n",
       "2     0.000000         0  \n",
       "3     0.000000         0  \n",
       "4     0.200000         0  \n",
       "5     0.333333         0  \n",
       "6     0.428571         0  \n",
       "7     0.500000         0  \n",
       "8     0.444444         0  \n",
       "9     0.500000         0  "
      ]
     },
     "execution_count": 16,
     "metadata": {},
     "output_type": "execute_result"
    }
   ],
   "source": [
    "df2.head(10)"
   ]
  },
  {
   "cell_type": "markdown",
   "metadata": {},
   "source": [
    "Сгруппируем данные по ID ресторана и применим функцию min_days, которая выведет количество дней, которое потребовалось каждому ретсорану чтобы достичь процента проникновения чекина в стол в 20%"
   ]
  },
  {
   "cell_type": "code",
   "execution_count": 17,
   "metadata": {},
   "outputs": [
    {
     "data": {
      "text/html": [
       "<div>\n",
       "<style scoped>\n",
       "    .dataframe tbody tr th:only-of-type {\n",
       "        vertical-align: middle;\n",
       "    }\n",
       "\n",
       "    .dataframe tbody tr th {\n",
       "        vertical-align: top;\n",
       "    }\n",
       "\n",
       "    .dataframe thead th {\n",
       "        text-align: right;\n",
       "    }\n",
       "</style>\n",
       "<table border=\"1\" class=\"dataframe\">\n",
       "  <thead>\n",
       "    <tr style=\"text-align: right;\">\n",
       "      <th></th>\n",
       "      <th>OId</th>\n",
       "      <th>RegistrationTime</th>\n",
       "      <th>Penetration</th>\n",
       "      <th>DaysDiff</th>\n",
       "    </tr>\n",
       "  </thead>\n",
       "  <tbody>\n",
       "    <tr>\n",
       "      <th>0</th>\n",
       "      <td>26bd3a99-7f33-e911-a2c4-00505611114a</td>\n",
       "      <td>2019-08-12 11:58:52</td>\n",
       "      <td>0.200000</td>\n",
       "      <td>0</td>\n",
       "    </tr>\n",
       "    <tr>\n",
       "      <th>1</th>\n",
       "      <td>6c0bfd67-99c8-e811-a2b9-00505611096c</td>\n",
       "      <td>2019-08-12 12:21:09</td>\n",
       "      <td>0.214286</td>\n",
       "      <td>0</td>\n",
       "    </tr>\n",
       "    <tr>\n",
       "      <th>2</th>\n",
       "      <td>6dcdf611-35ad-e811-a2b8-005056110660</td>\n",
       "      <td>2019-08-12 09:14:36</td>\n",
       "      <td>0.250000</td>\n",
       "      <td>0</td>\n",
       "    </tr>\n",
       "    <tr>\n",
       "      <th>3</th>\n",
       "      <td>a1422d5d-7924-e911-9668-00505611117e</td>\n",
       "      <td>2019-08-13 13:50:13</td>\n",
       "      <td>0.200000</td>\n",
       "      <td>1</td>\n",
       "    </tr>\n",
       "    <tr>\n",
       "      <th>4</th>\n",
       "      <td>e3c730a4-2184-e711-8112-005056010fa5</td>\n",
       "      <td>2019-08-12 12:58:39</td>\n",
       "      <td>0.222222</td>\n",
       "      <td>0</td>\n",
       "    </tr>\n",
       "    <tr>\n",
       "      <th>5</th>\n",
       "      <td>e84ac806-e548-443a-a35b-d407454bfc0c</td>\n",
       "      <td>2019-08-12 13:21:59</td>\n",
       "      <td>0.200980</td>\n",
       "      <td>1</td>\n",
       "    </tr>\n",
       "    <tr>\n",
       "      <th>6</th>\n",
       "      <td>f164a99d-be47-462e-9259-1712ce6bb569</td>\n",
       "      <td>2019-08-12 13:15:09</td>\n",
       "      <td>0.205882</td>\n",
       "      <td>1</td>\n",
       "    </tr>\n",
       "  </tbody>\n",
       "</table>\n",
       "</div>"
      ],
      "text/plain": [
       "                                    OId    RegistrationTime  Penetration  \\\n",
       "0  26bd3a99-7f33-e911-a2c4-00505611114a 2019-08-12 11:58:52     0.200000   \n",
       "1  6c0bfd67-99c8-e811-a2b9-00505611096c 2019-08-12 12:21:09     0.214286   \n",
       "2  6dcdf611-35ad-e811-a2b8-005056110660 2019-08-12 09:14:36     0.250000   \n",
       "3  a1422d5d-7924-e911-9668-00505611117e 2019-08-13 13:50:13     0.200000   \n",
       "4  e3c730a4-2184-e711-8112-005056010fa5 2019-08-12 12:58:39     0.222222   \n",
       "5  e84ac806-e548-443a-a35b-d407454bfc0c 2019-08-12 13:21:59     0.200980   \n",
       "6  f164a99d-be47-462e-9259-1712ce6bb569 2019-08-12 13:15:09     0.205882   \n",
       "\n",
       "   DaysDiff  \n",
       "0         0  \n",
       "1         0  \n",
       "2         0  \n",
       "3         1  \n",
       "4         0  \n",
       "5         1  \n",
       "6         1  "
      ]
     },
     "execution_count": 17,
     "metadata": {},
     "output_type": "execute_result"
    }
   ],
   "source": [
    "df2 = df2.groupby(['OId']).apply(min_days).reset_index(drop='index')\n",
    "df2"
   ]
  },
  {
   "cell_type": "markdown",
   "metadata": {},
   "source": [
    "Также мы можем посчитать среднее количетво дней, которое потребовалось каждому ретсорану чтобы достичь процента проникновения чекина в стол в 20%"
   ]
  },
  {
   "cell_type": "code",
   "execution_count": 18,
   "metadata": {},
   "outputs": [
    {
     "data": {
      "text/plain": [
       "0.43"
      ]
     },
     "execution_count": 18,
     "metadata": {},
     "output_type": "execute_result"
    }
   ],
   "source": [
    "round(df2['DaysDiff'].mean(), 2)"
   ]
  }
 ],
 "metadata": {
  "kernelspec": {
   "display_name": "Python 3",
   "language": "python",
   "name": "python3"
  },
  "language_info": {
   "codemirror_mode": {
    "name": "ipython",
    "version": 3
   },
   "file_extension": ".py",
   "mimetype": "text/x-python",
   "name": "python",
   "nbconvert_exporter": "python",
   "pygments_lexer": "ipython3",
   "version": "3.7.4"
  },
  "toc": {
   "base_numbering": 1,
   "nav_menu": {},
   "number_sections": true,
   "sideBar": true,
   "skip_h1_title": false,
   "title_cell": "Table of Contents",
   "title_sidebar": "Contents",
   "toc_cell": false,
   "toc_position": {},
   "toc_section_display": true,
   "toc_window_display": false
  },
  "varInspector": {
   "cols": {
    "lenName": 16,
    "lenType": 16,
    "lenVar": 40
   },
   "kernels_config": {
    "python": {
     "delete_cmd_postfix": "",
     "delete_cmd_prefix": "del ",
     "library": "var_list.py",
     "varRefreshCmd": "print(var_dic_list())"
    },
    "r": {
     "delete_cmd_postfix": ") ",
     "delete_cmd_prefix": "rm(",
     "library": "var_list.r",
     "varRefreshCmd": "cat(var_dic_list()) "
    }
   },
   "types_to_exclude": [
    "module",
    "function",
    "builtin_function_or_method",
    "instance",
    "_Feature"
   ],
   "window_display": false
  }
 },
 "nbformat": 4,
 "nbformat_minor": 2
}
